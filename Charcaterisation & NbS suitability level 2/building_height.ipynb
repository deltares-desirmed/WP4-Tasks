import os
import geopandas as gpd
import ee
import matplotlib.pyplot as plt
import rioxarray
from urllib.request import urlretrieve
import numpy as np

# Initialize Earth Engine
try:
    ee.Initialize(project='ee-desmond')
except Exception:
    ee.Authenticate()
    ee.Initialize(project='ee-desmond')

# Folders and configuration
base_folder = r"C:\Users\Gebruiker\OneDrive\DesirMED info\Paper\case_study_locations"
raster_dir = "ghs_height_rasters"
os.makedirs(raster_dir, exist_ok=True)

ghs_obat_iso_assets = {
    'Italy':     'projects/sat-io/open-datasets/JRC/GHS-OBAT/GHS_OBAT_GPKG_ITA_E2020_R2024A_V1_0',
    'France':    'projects/sat-io/open-datasets/JRC/GHS-OBAT/GHS_OBAT_GPKG_FRA_E2020_R2024A_V1_0',
    'Spain':     'projects/sat-io/open-datasets/JRC/GHS-OBAT/GHS_OBAT_GPKG_ESP_E2020_R2024A_V1_0',
    'Portugal':  'projects/sat-io/open-datasets/JRC/GHS-OBAT/GHS_OBAT_GPKG_PRT_E2020_R2024A_V1_0',
    'Croatia':   'projects/sat-io/open-datasets/JRC/GHS-OBAT/GHS_OBAT_GPKG_HRV_E2020_R2024A_V1_0',
    'Cyprus':    'projects/sat-io/open-datasets/JRC/GHS-OBAT/GHS_OBAT_GPKG_CYP_E2020_R2024A_V1_0',
    'Greece':    'projects/sat-io/open-datasets/JRC/GHS-OBAT/GHS_OBAT_GPKG_GRC_E2020_R2024A_V1_0'
}

# Load shapefiles
shapefiles = []
for root, dirs, files in os.walk(base_folder):
    for file in files:
        if file.endswith('.shp'):
            full_path = os.path.join(root, file)
            region = os.path.splitext(file)[0]
            country = os.path.basename(os.path.dirname(full_path))
            shapefiles.append((country, region, full_path))

def gdf_to_ee(gdf):
    return ee.Geometry(gdf.geometry.union_all().__geo_interface__)

# Loop through all regions
for country, region, path in shapefiles:
    asset_path = ghs_obat_iso_assets.get(country)

    if not asset_path:
        print(f" No GHS-OBAT asset for {country}, skipping {region}")
        continue

    try:
        gdf = gpd.read_file(path, encoding='ISO-8859-1', engine='fiona')
        if gdf.empty:
            raise ValueError("Empty shapefile")

        ee_geom = gdf_to_ee(gdf)
        ee_geom_bbox = ee_geom.bounds()

        # Filter buildings with height data
        fc = ee.FeatureCollection(asset_path)\
               .filterBounds(ee_geom)\
               .filter(ee.Filter.neq('height', None))\
               .filter(ee.Filter.gt('height', 0))

        count = fc.size().getInfo()
        if count == 0:
            print(f" No height data for {region}")
            continue

        # Download height image
        image = fc.reduceToImage(['height'], ee.Reducer.first()).clip(ee_geom_bbox)
        filename = f"{region}_height.tif".replace(" ", "_")
        tif_path = os.path.join(raster_dir, filename)

        if not os.path.exists(tif_path):
            url = image.getDownloadURL({
                'scale': 500,
                'region': ee_geom_bbox,
                'format': 'GEO_TIFF'
            })
            urlretrieve(url, tif_path)

        # Open and mask raster
        da = rioxarray.open_rasterio(tif_path).squeeze()
        da.rio.write_crs("EPSG:4326", inplace=True)
        masked = da.rio.clip(gdf.geometry.values, gdf.crs, drop=False)

        # Plot
        vmax = float(np.nanpercentile(masked.values, 95))
        vmin = 1

        fig, ax = plt.subplots(figsize=(7, 6))
        im = masked.plot(
            ax=ax,
            cmap='RdYlGn_r',
            vmin=vmin,
            vmax=vmax,
            add_colorbar=False,
            alpha=1.0
        )

        gdf.boundary.plot(ax=ax, edgecolor='black', linewidth=0.7)
        ax.set_title(f"{region} – Building Heights", fontsize=13, fontweight='bold')
        ax.set_xlabel("Longitude")
        ax.set_ylabel("Latitude")
        ax.set_facecolor('white')

        cbar = plt.colorbar(im, ax=ax, shrink=0.7, pad=0.03)
        cbar.set_label("Building Height (m)", fontsize=10)

        plt.axis('equal')
        plt.tight_layout()
        out_path = f"{region}_building_heights_clean_masked.png".replace(" ", "_")
        plt.savefig(out_path, dpi=300)
        plt.show()

        print(f" Saved: {out_path}")

    except Exception as e:
        print(f" Error for {region}: {e}")
